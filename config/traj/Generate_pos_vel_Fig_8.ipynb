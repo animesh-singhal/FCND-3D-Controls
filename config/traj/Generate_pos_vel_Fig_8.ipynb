{
 "cells": [
  {
   "cell_type": "code",
   "execution_count": 1,
   "metadata": {},
   "outputs": [
    {
     "name": "stdout",
     "output_type": "stream",
     "text": [
      "hi\n"
     ]
    }
   ],
   "source": [
    "print(\"hi\")"
   ]
  },
  {
   "cell_type": "code",
   "execution_count": 8,
   "metadata": {},
   "outputs": [],
   "source": [
    "import math\n",
    "\n",
    "def fmt(value):\n",
    "    return \"%.3f\" % value\n",
    "\n",
    "period = [4, 2, 4]\n",
    "radius = 1.5\n",
    "timestep = 0.02\n",
    "maxtime = max(period)*3\n",
    "timemult = [1, 1, 1]\n",
    "phase=[0,0,0]\n",
    "amp = [1,0.4,.5]\n",
    "center = [0, 0, -2]\n",
    "\n",
    "with open('FigureEight.txt', 'w') as the_file:\n",
    "    t=0\n",
    "    px = 0\n",
    "    py = 0\n",
    "    pz = 0\n",
    "    while t <= maxtime:\n",
    "        \n",
    "        x = math.sin(t * 2 * math.pi / period[0] + phase[0]) * radius * amp[0] + center[0]\n",
    "        y = math.sin(t * 2 * math.pi / period[1] + phase[1]) * radius * amp[1] + center[1]\n",
    "        z = math.sin(t * 2 * math.pi / period[2] + phase[2]) * radius * amp[2] + center[2]\n",
    "        the_file.write(fmt(t) + \",\" + fmt(x) + \",\" + fmt(y) + \",\" + fmt(z))\n",
    "        \n",
    "        vx = math.cos(t * 2 * math.pi / period[0] + phase[0]) * radius * amp[0] * 2 * math.pi / period[0]\n",
    "        vy = math.cos(t * 2 * math.pi / period[1] + phase[1]) * radius * amp[1] * 2 * math.pi / period[1]\n",
    "        vz = math.cos(t * 2 * math.pi / period[2] + phase[2]) * radius * amp[2] * 2 * math.pi / period[2]\n",
    "        \n",
    "        the_file.write(\",\" + fmt(vx) + \",\" + fmt(vy) + \",\" + fmt(vz))\n",
    "\n",
    "        the_file.write(\"\\n\")\n",
    "        \n",
    "        t += timestep\n",
    "            \n"
   ]
  },
  {
   "cell_type": "code",
   "execution_count": null,
   "metadata": {},
   "outputs": [],
   "source": []
  }
 ],
 "metadata": {
  "kernelspec": {
   "display_name": "Python 3",
   "language": "python",
   "name": "python3"
  },
  "language_info": {
   "codemirror_mode": {
    "name": "ipython",
    "version": 3
   },
   "file_extension": ".py",
   "mimetype": "text/x-python",
   "name": "python",
   "nbconvert_exporter": "python",
   "pygments_lexer": "ipython3",
   "version": "3.8.3"
  }
 },
 "nbformat": 4,
 "nbformat_minor": 4
}
